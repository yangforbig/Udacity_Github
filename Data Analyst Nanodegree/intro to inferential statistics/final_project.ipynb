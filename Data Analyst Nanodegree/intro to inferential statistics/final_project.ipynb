{
 "cells": [
  {
   "cell_type": "markdown",
   "metadata": {},
   "source": [
    "- Introduce the topic related to the data set - why it is important to analyze\n",
    "- Your research question and hypothesis\n",
    "- Experimental design - type of analysis and reason for this choice\n",
    "- Analysis results and data visualizations\n",
    "- Conclusion - what you learned and what are the real life implications\n"
   ]
  },
  {
   "cell_type": "markdown",
   "metadata": {},
   "source": [
    "How do people learn to code? What rescouces they used to develop their technical skills? How to\n",
    "improve online education that could be accessible to those people in need? Lots of questions are waiting to be answered. FreeCodeCamp conducted a new survey on more than 20000 people in terms of their identities and coding experience. In this project we are going to perfom some \n",
    "\n",
    "\n",
    "\n"
   ]
  },
  {
   "cell_type": "markdown",
   "metadata": {},
   "source": [
    "The first thing we have to be cautious about is the validity of the data. The survey paticipants are from all over the world and those are the people have been coding for less than 5 years. \n",
    "\n",
    "\n"
   ]
  },
  {
   "cell_type": "markdown",
   "metadata": {},
   "source": [
    "More than 20,000 new coders responded to this survey. These are people who have been coding for less than 5 years."
   ]
  },
  {
   "cell_type": "code",
   "execution_count": null,
   "metadata": {
    "collapsed": true
   },
   "outputs": [],
   "source": []
  },
  {
   "cell_type": "code",
   "execution_count": null,
   "metadata": {
    "collapsed": true
   },
   "outputs": [],
   "source": []
  },
  {
   "cell_type": "code",
   "execution_count": 9,
   "metadata": {
    "collapsed": false
   },
   "outputs": [
    {
     "name": "stdout",
     "output_type": "stream",
     "text": [
      "2017-fCC-New-Coders-Survey-Data.csv  final_project.ipynb\r\n",
      "Python.ipynb                         note.md\r\n"
     ]
    }
   ],
   "source": [
    "%ls"
   ]
  },
  {
   "cell_type": "code",
   "execution_count": 10,
   "metadata": {
    "collapsed": true
   },
   "outputs": [],
   "source": [
    "import pandas as pd\n",
    "import matplotlib.pyplot as plt"
   ]
  },
  {
   "cell_type": "code",
   "execution_count": 11,
   "metadata": {
    "collapsed": false
   },
   "outputs": [
    {
     "name": "stderr",
     "output_type": "stream",
     "text": [
      "/anaconda/lib/python2.7/site-packages/IPython/core/interactiveshell.py:2717: DtypeWarning: Columns (17,62) have mixed types. Specify dtype option on import or set low_memory=False.\n",
      "  interactivity=interactivity, compiler=compiler, result=result)\n"
     ]
    }
   ],
   "source": [
    "survey = pd.read_csv('2017-fCC-New-Coders-Survey-Data.csv')"
   ]
  },
  {
   "cell_type": "code",
   "execution_count": 13,
   "metadata": {
    "collapsed": false
   },
   "outputs": [],
   "source": [
    "s = survey"
   ]
  },
  {
   "cell_type": "code",
   "execution_count": 24,
   "metadata": {
    "collapsed": false
   },
   "outputs": [
    {
     "data": {
      "text/plain": [
       "Index([u'Age', u'AttendedBootcamp', u'BootcampFinish', u'BootcampLoanYesNo',\n",
       "       u'BootcampName', u'BootcampRecommend', u'ChildrenNumber',\n",
       "       u'CityPopulation', u'CodeEventConferences', u'CodeEventDjangoGirls',\n",
       "       u'CodeEventFCC', u'CodeEventGameJam', u'CodeEventGirlDev',\n",
       "       u'CodeEventHackathons', u'CodeEventMeetup', u'CodeEventNodeSchool',\n",
       "       u'CodeEventNone', u'CodeEventOther', u'CodeEventRailsBridge',\n",
       "       u'CodeEventRailsGirls', u'CodeEventStartUpWknd',\n",
       "       u'CodeEventWkdBootcamps', u'CodeEventWomenCode', u'CodeEventWorkshops',\n",
       "       u'CommuteTime', u'CountryCitizen', u'CountryLive', u'EmploymentField',\n",
       "       u'EmploymentFieldOther', u'EmploymentStatus', u'EmploymentStatusOther',\n",
       "       u'ExpectedEarning', u'FinanciallySupporting', u'FirstDevJob', u'Gender',\n",
       "       u'GenderOther', u'HasChildren', u'HasDebt', u'HasFinancialDependents',\n",
       "       u'HasHighSpdInternet', u'HasHomeMortgage', u'HasServedInMilitary',\n",
       "       u'HasStudentDebt', u'HomeMortgageOwe', u'HoursLearning', u'ID.x',\n",
       "       u'ID.y', u'Income', u'IsEthnicMinority',\n",
       "       u'IsReceiveDisabilitiesBenefits'],\n",
       "      dtype='object')"
      ]
     },
     "execution_count": 24,
     "metadata": {},
     "output_type": "execute_result"
    }
   ],
   "source": [
    "s.columns[0:50]"
   ]
  },
  {
   "cell_type": "code",
   "execution_count": 27,
   "metadata": {
    "collapsed": false
   },
   "outputs": [
    {
     "data": {
      "text/plain": [
       "Index([u'IsSoftwareDev', u'IsUnderEmployed', u'JobApplyWhen',\n",
       "       u'JobInterestBackEnd', u'JobInterestDataEngr', u'JobInterestDataSci',\n",
       "       u'JobInterestDevOps', u'JobInterestFrontEnd', u'JobInterestFullStack',\n",
       "       u'JobInterestGameDev', u'JobInterestInfoSec', u'JobInterestMobile',\n",
       "       u'JobInterestOther', u'JobInterestProjMngr', u'JobInterestQAEngr',\n",
       "       u'JobInterestUX', u'JobPref', u'JobRelocateYesNo', u'JobRoleInterest',\n",
       "       u'JobWherePref', u'LanguageAtHome', u'MaritalStatus',\n",
       "       u'MoneyForLearning', u'MonthsProgramming', u'NetworkID',\n",
       "       u'Part1EndTime', u'Part1StartTime', u'Part2EndTime', u'Part2StartTime',\n",
       "       u'PodcastChangeLog', u'PodcastCodeNewbie', u'PodcastCodePen',\n",
       "       u'PodcastDevTea', u'PodcastDotNET', u'PodcastGiantRobots',\n",
       "       u'PodcastJSAir', u'PodcastJSJabber', u'PodcastNone', u'PodcastOther',\n",
       "       u'PodcastProgThrowdown', u'PodcastRubyRogues', u'PodcastSEDaily',\n",
       "       u'PodcastSERadio', u'PodcastShopTalk', u'PodcastTalkPython',\n",
       "       u'PodcastTheWebAhead', u'ResourceCodecademy', u'ResourceCodeWars',\n",
       "       u'ResourceCoursera', u'ResourceCSS', u'ResourceEdX', u'ResourceEgghead',\n",
       "       u'ResourceFCC', u'ResourceHackerRank', u'ResourceKA', u'ResourceLynda',\n",
       "       u'ResourceMDN', u'ResourceOdinProj', u'ResourceOther',\n",
       "       u'ResourcePluralSight', u'ResourceSkillcrush', u'ResourceSO',\n",
       "       u'ResourceTreehouse', u'ResourceUdacity', u'ResourceUdemy',\n",
       "       u'ResourceW3S', u'SchoolDegree', u'SchoolMajor', u'StudentDebtOwe',\n",
       "       u'YouTubeCodeCourse', u'YouTubeCodingTrain', u'YouTubeCodingTut360',\n",
       "       u'YouTubeComputerphile', u'YouTubeDerekBanas', u'YouTubeDevTips',\n",
       "       u'YouTubeEngineeredTruth', u'YouTubeFCC', u'YouTubeFunFunFunction',\n",
       "       u'YouTubeGoogleDev', u'YouTubeLearnCode', u'YouTubeLevelUpTuts',\n",
       "       u'YouTubeMIT', u'YouTubeMozillaHacks', u'YouTubeOther',\n",
       "       u'YouTubeSimplilearn', u'YouTubeTheNewBoston'],\n",
       "      dtype='object')"
      ]
     },
     "execution_count": 27,
     "metadata": {},
     "output_type": "execute_result"
    }
   ],
   "source": [
    "s.columns[50:]"
   ]
  },
  {
   "cell_type": "code",
   "execution_count": null,
   "metadata": {
    "collapsed": true
   },
   "outputs": [],
   "source": [
    "# 'Age','AttendedBootcamp','CountryCitizen','Gender','GenderOther','Income','CountryLive'\n",
    "# 'HoursLearning','EmploymentStatus','HasDebt','HasFinancialDependents','IsUnderEmployed'"
   ]
  },
  {
   "cell_type": "code",
   "execution_count": 46,
   "metadata": {
    "collapsed": false
   },
   "outputs": [
    {
     "data": {
      "text/plain": [
       "18175"
      ]
     },
     "execution_count": 46,
     "metadata": {},
     "output_type": "execute_result"
    }
   ],
   "source": [
    "len(s) "
   ]
  },
  {
   "cell_type": "code",
   "execution_count": 53,
   "metadata": {
    "collapsed": false
   },
   "outputs": [
    {
     "data": {
      "text/plain": [
       "ResourceUdacity\n",
       "1.0    3837\n",
       "dtype: int64"
      ]
     },
     "execution_count": 53,
     "metadata": {},
     "output_type": "execute_result"
    }
   ],
   "source": [
    "s.groupby('ResourceUdacity').size()"
   ]
  },
  {
   "cell_type": "code",
   "execution_count": 35,
   "metadata": {
    "collapsed": false
   },
   "outputs": [
    {
     "data": {
      "text/html": [
       "<div>\n",
       "<table border=\"1\" class=\"dataframe\">\n",
       "  <thead>\n",
       "    <tr style=\"text-align: right;\">\n",
       "      <th></th>\n",
       "      <th>Age</th>\n",
       "      <th>AttendedBootcamp</th>\n",
       "      <th>BootcampFinish</th>\n",
       "      <th>BootcampLoanYesNo</th>\n",
       "      <th>BootcampName</th>\n",
       "      <th>BootcampRecommend</th>\n",
       "      <th>ChildrenNumber</th>\n",
       "      <th>CityPopulation</th>\n",
       "      <th>CodeEventConferences</th>\n",
       "      <th>CodeEventDjangoGirls</th>\n",
       "      <th>...</th>\n",
       "      <th>IsSoftwareDev</th>\n",
       "      <th>IsUnderEmployed</th>\n",
       "      <th>JobApplyWhen</th>\n",
       "      <th>JobInterestBackEnd</th>\n",
       "      <th>JobInterestDataEngr</th>\n",
       "      <th>JobInterestDataSci</th>\n",
       "      <th>JobInterestDevOps</th>\n",
       "      <th>JobInterestFrontEnd</th>\n",
       "      <th>JobInterestFullStack</th>\n",
       "      <th>JobInterestGameDev</th>\n",
       "    </tr>\n",
       "  </thead>\n",
       "  <tbody>\n",
       "    <tr>\n",
       "      <th>0</th>\n",
       "      <td>27.0</td>\n",
       "      <td>0.0</td>\n",
       "      <td>NaN</td>\n",
       "      <td>NaN</td>\n",
       "      <td>NaN</td>\n",
       "      <td>NaN</td>\n",
       "      <td>NaN</td>\n",
       "      <td>more than 1 million</td>\n",
       "      <td>NaN</td>\n",
       "      <td>NaN</td>\n",
       "      <td>...</td>\n",
       "      <td>0.0</td>\n",
       "      <td>0.0</td>\n",
       "      <td>NaN</td>\n",
       "      <td>NaN</td>\n",
       "      <td>NaN</td>\n",
       "      <td>NaN</td>\n",
       "      <td>NaN</td>\n",
       "      <td>NaN</td>\n",
       "      <td>NaN</td>\n",
       "      <td>NaN</td>\n",
       "    </tr>\n",
       "    <tr>\n",
       "      <th>1</th>\n",
       "      <td>34.0</td>\n",
       "      <td>0.0</td>\n",
       "      <td>NaN</td>\n",
       "      <td>NaN</td>\n",
       "      <td>NaN</td>\n",
       "      <td>NaN</td>\n",
       "      <td>NaN</td>\n",
       "      <td>less than 100,000</td>\n",
       "      <td>NaN</td>\n",
       "      <td>NaN</td>\n",
       "      <td>...</td>\n",
       "      <td>0.0</td>\n",
       "      <td>NaN</td>\n",
       "      <td>Within 7 to 12 months</td>\n",
       "      <td>NaN</td>\n",
       "      <td>NaN</td>\n",
       "      <td>NaN</td>\n",
       "      <td>NaN</td>\n",
       "      <td>NaN</td>\n",
       "      <td>1.0</td>\n",
       "      <td>NaN</td>\n",
       "    </tr>\n",
       "    <tr>\n",
       "      <th>2</th>\n",
       "      <td>21.0</td>\n",
       "      <td>0.0</td>\n",
       "      <td>NaN</td>\n",
       "      <td>NaN</td>\n",
       "      <td>NaN</td>\n",
       "      <td>NaN</td>\n",
       "      <td>NaN</td>\n",
       "      <td>more than 1 million</td>\n",
       "      <td>NaN</td>\n",
       "      <td>NaN</td>\n",
       "      <td>...</td>\n",
       "      <td>0.0</td>\n",
       "      <td>0.0</td>\n",
       "      <td>Within 7 to 12 months</td>\n",
       "      <td>1.0</td>\n",
       "      <td>NaN</td>\n",
       "      <td>NaN</td>\n",
       "      <td>1.0</td>\n",
       "      <td>1.0</td>\n",
       "      <td>1.0</td>\n",
       "      <td>NaN</td>\n",
       "    </tr>\n",
       "    <tr>\n",
       "      <th>3</th>\n",
       "      <td>26.0</td>\n",
       "      <td>0.0</td>\n",
       "      <td>NaN</td>\n",
       "      <td>NaN</td>\n",
       "      <td>NaN</td>\n",
       "      <td>NaN</td>\n",
       "      <td>NaN</td>\n",
       "      <td>between 100,000 and 1 million</td>\n",
       "      <td>NaN</td>\n",
       "      <td>NaN</td>\n",
       "      <td>...</td>\n",
       "      <td>0.0</td>\n",
       "      <td>1.0</td>\n",
       "      <td>Within the next 6 months</td>\n",
       "      <td>1.0</td>\n",
       "      <td>NaN</td>\n",
       "      <td>NaN</td>\n",
       "      <td>NaN</td>\n",
       "      <td>1.0</td>\n",
       "      <td>1.0</td>\n",
       "      <td>NaN</td>\n",
       "    </tr>\n",
       "    <tr>\n",
       "      <th>4</th>\n",
       "      <td>20.0</td>\n",
       "      <td>0.0</td>\n",
       "      <td>NaN</td>\n",
       "      <td>NaN</td>\n",
       "      <td>NaN</td>\n",
       "      <td>NaN</td>\n",
       "      <td>NaN</td>\n",
       "      <td>between 100,000 and 1 million</td>\n",
       "      <td>NaN</td>\n",
       "      <td>NaN</td>\n",
       "      <td>...</td>\n",
       "      <td>0.0</td>\n",
       "      <td>NaN</td>\n",
       "      <td>Within 7 to 12 months</td>\n",
       "      <td>1.0</td>\n",
       "      <td>NaN</td>\n",
       "      <td>NaN</td>\n",
       "      <td>NaN</td>\n",
       "      <td>1.0</td>\n",
       "      <td>1.0</td>\n",
       "      <td>NaN</td>\n",
       "    </tr>\n",
       "  </tbody>\n",
       "</table>\n",
       "<p>5 rows × 60 columns</p>\n",
       "</div>"
      ],
      "text/plain": [
       "    Age  AttendedBootcamp  BootcampFinish  BootcampLoanYesNo BootcampName  \\\n",
       "0  27.0               0.0             NaN                NaN          NaN   \n",
       "1  34.0               0.0             NaN                NaN          NaN   \n",
       "2  21.0               0.0             NaN                NaN          NaN   \n",
       "3  26.0               0.0             NaN                NaN          NaN   \n",
       "4  20.0               0.0             NaN                NaN          NaN   \n",
       "\n",
       "   BootcampRecommend  ChildrenNumber                 CityPopulation  \\\n",
       "0                NaN             NaN            more than 1 million   \n",
       "1                NaN             NaN              less than 100,000   \n",
       "2                NaN             NaN            more than 1 million   \n",
       "3                NaN             NaN  between 100,000 and 1 million   \n",
       "4                NaN             NaN  between 100,000 and 1 million   \n",
       "\n",
       "   CodeEventConferences  CodeEventDjangoGirls         ...          \\\n",
       "0                   NaN                   NaN         ...           \n",
       "1                   NaN                   NaN         ...           \n",
       "2                   NaN                   NaN         ...           \n",
       "3                   NaN                   NaN         ...           \n",
       "4                   NaN                   NaN         ...           \n",
       "\n",
       "   IsSoftwareDev  IsUnderEmployed              JobApplyWhen  \\\n",
       "0            0.0              0.0                       NaN   \n",
       "1            0.0              NaN     Within 7 to 12 months   \n",
       "2            0.0              0.0     Within 7 to 12 months   \n",
       "3            0.0              1.0  Within the next 6 months   \n",
       "4            0.0              NaN     Within 7 to 12 months   \n",
       "\n",
       "   JobInterestBackEnd  JobInterestDataEngr  JobInterestDataSci  \\\n",
       "0                 NaN                  NaN                 NaN   \n",
       "1                 NaN                  NaN                 NaN   \n",
       "2                 1.0                  NaN                 NaN   \n",
       "3                 1.0                  NaN                 NaN   \n",
       "4                 1.0                  NaN                 NaN   \n",
       "\n",
       "   JobInterestDevOps JobInterestFrontEnd  JobInterestFullStack  \\\n",
       "0                NaN                 NaN                   NaN   \n",
       "1                NaN                 NaN                   1.0   \n",
       "2                1.0                 1.0                   1.0   \n",
       "3                NaN                 1.0                   1.0   \n",
       "4                NaN                 1.0                   1.0   \n",
       "\n",
       "   JobInterestGameDev  \n",
       "0                 NaN  \n",
       "1                 NaN  \n",
       "2                 NaN  \n",
       "3                 NaN  \n",
       "4                 NaN  \n",
       "\n",
       "[5 rows x 60 columns]"
      ]
     },
     "execution_count": 35,
     "metadata": {},
     "output_type": "execute_result"
    }
   ],
   "source": [
    "s.head().iloc[:,:60]"
   ]
  },
  {
   "cell_type": "code",
   "execution_count": null,
   "metadata": {
    "collapsed": true
   },
   "outputs": [],
   "source": []
  }
 ],
 "metadata": {
  "kernelspec": {
   "display_name": "Python 2",
   "language": "python",
   "name": "python2"
  },
  "language_info": {
   "codemirror_mode": {
    "name": "ipython",
    "version": 2
   },
   "file_extension": ".py",
   "mimetype": "text/x-python",
   "name": "python",
   "nbconvert_exporter": "python",
   "pygments_lexer": "ipython2",
   "version": "2.7.13"
  }
 },
 "nbformat": 4,
 "nbformat_minor": 2
}
