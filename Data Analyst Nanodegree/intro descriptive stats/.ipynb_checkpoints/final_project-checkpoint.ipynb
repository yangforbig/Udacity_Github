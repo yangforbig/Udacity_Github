{
 "cells": [
  {
   "cell_type": "markdown",
   "metadata": {},
   "source": [
    "                            \n",
    "                                  Final Project - Descriptive Statistics"
   ]
  },
  {
   "cell_type": "markdown",
   "metadata": {},
   "source": [
    "This experiment will require the use of a standard deck of playing cards. \n",
    "This is a deck of fifty-two cards divided into four suits (spades (♠), hearts (♥), diamonds (♦), and clubs (♣)), \n",
    "each suit containing thirteen cards (Ace, numbers 2-10, and face cards Jack, Queen, and King). \n",
    "You can use either a physical deck of cards for this experiment or \n",
    "you may use a virtual deck of cards such as that found on random.org (http://www.random.org/playing-cards/).\n",
    "For the purposes of this task, assign each card a value:\n",
    "The Ace takes a value of 1, numbered cards take the value printed on the card, \n",
    "and the Jack, Queen, and King each take a value of 10."
   ]
  },
  {
   "cell_type": "markdown",
   "metadata": {},
   "source": [
    "#### Question 1: Plotting a histogram of card values"
   ]
  },
  {
   "cell_type": "code",
   "execution_count": 3,
   "metadata": {
    "collapsed": true
   },
   "outputs": [],
   "source": [
    "import random\n",
    "import numpy as np\n",
    "import pandas as pd\n",
    "import matplotlib.pyplot as plt\n",
    "import scipy.stats as st"
   ]
  },
  {
   "cell_type": "code",
   "execution_count": 4,
   "metadata": {
    "collapsed": true
   },
   "outputs": [],
   "source": [
    "# create cards\n",
    "collection = [[i + 1] * 4 for i in range(9)]\n",
    "cards = []\n",
    "for i in collection:\n",
    "    cards += i\n",
    "cards += [10] * 16"
   ]
  },
  {
   "cell_type": "code",
   "execution_count": 6,
   "metadata": {
    "collapsed": false
   },
   "outputs": [
    {
     "data": {
      "image/png": "[encoded data removed]",
      "text/plain": [
       "<matplotlib.figure.Figure at 0x11aa17050>"
      ]
     },
     "metadata": {},
     "output_type": "display_data"
    }
   ],
   "source": [
    "plt.hist(cards, bins = 10)\n",
    "plt.title('Card Value Histogram')\n",
    "plt.show()"
   ]
  },
  {
   "cell_type": "markdown",
   "metadata": {},
   "source": [
    "#### Q2: Obtain samples from a deck of cards"
   ]
  },
  {
   "cell_type": "code",
   "execution_count": 7,
   "metadata": {
    "collapsed": false
   },
   "outputs": [
    {
     "name": "stdout",
     "output_type": "stream",
     "text": [
      "sample size of cards:  100\n"
     ]
    }
   ],
   "source": [
    "def sample(cards, n = 100, size = 3):\n",
    "    samples = []\n",
    "    for i in range(n):\n",
    "        sampleCards = random.sample(cards, size)\n",
    "        samples.append(sum(sampleCards))\n",
    "    return pd.Series(samples)\n",
    "\n",
    "samples = sample(cards)\n",
    "print \"sample size of cards: \", len(samples)"
   ]
  },
  {
   "cell_type": "markdown",
   "metadata": {},
   "source": [
    "#### Q3: Report descriptive statistics regarding sample taken"
   ]
  },
  {
   "cell_type": "code",
   "execution_count": 8,
   "metadata": {
    "collapsed": false
   },
   "outputs": [
    {
     "name": "stdout",
     "output_type": "stream",
     "text": [
      "Mean of samples 20.07\n",
      "Median of samples 21.0\n",
      "Mode of samples 23\n"
     ]
    }
   ],
   "source": [
    "## Central Tendency\n",
    "print \"Mean of samples\", samples.mean()\n",
    "print \"Median of samples\", samples.median()\n",
    "print \"Mode of samples\", samples.mode()[0]"
   ]
  },
  {
   "cell_type": "code",
   "execution_count": 9,
   "metadata": {
    "collapsed": false
   },
   "outputs": [
    {
     "name": "stdout",
     "output_type": "stream",
     "text": [
      "Variance of sample 24.388989899\n",
      "Standard deviation of sample 4.93852102344\n"
     ]
    }
   ],
   "source": [
    "\n",
    "## Variabilitiy\n",
    "print \"Variance of sample\", samples.var()\n",
    "print \"Standard deviation of sample\", samples.std()"
   ]
  },
  {
   "cell_type": "markdown",
   "metadata": {},
   "source": [
    "#### Q4 Plotting a histogram of sampled values"
   ]
  },
  {
   "cell_type": "markdown",
   "metadata": {},
   "source": [
    "The original distribution is the distribution of all the population(card) value\n",
    "Except for the high frequency of value 10, each value has the same frequency.\n",
    "The second histogram is nearly a normal distribution, which is agreed with the\n",
    "central limit theorem of sampling distribution."
   ]
  },
  {
   "cell_type": "code",
   "execution_count": 11,
   "metadata": {
    "collapsed": false
   },
   "outputs": [
    {
     "data": {
      "image/png": "[encoded data removed]",
      "text/plain": [
       "<matplotlib.figure.Figure at 0x11d103450>"
      ]
     },
     "metadata": {},
     "output_type": "display_data"
    }
   ],
   "source": [
    "fig,(ax1, ax2) = plt.subplots(nrows=2, figsize=(5,8))\n",
    "ax1.hist(cards, bins = 10)\n",
    "ax1.set_title('Card Value Histogram')\n",
    "\n",
    "ax2.hist(samples, bins = 10)\n",
    "ax2.set_title('Sum of sample Histogram')\n",
    "plt.show()"
   ]
  },
  {
   "cell_type": "code",
   "execution_count": null,
   "metadata": {
    "collapsed": true
   },
   "outputs": [],
   "source": [
    "#### Q5 Making estimates based on the sampled distribution"
   ]
  },
  {
   "cell_type": "code",
   "execution_count": 13,
   "metadata": {
    "collapsed": false
   },
   "outputs": [
    {
     "name": "stdout",
     "output_type": "stream",
     "text": [
      "90% range:  [26.39896934906848, 13.741030650931524]\n",
      "50.57%\n"
     ]
    }
   ],
   "source": [
    "sampleMean = samples / 3\n",
    "xbar = sampleMean.mean()\n",
    "std = sampleMean.std()\n",
    "\n",
    "right_cutoff = st.norm.ppf(0.9)\n",
    "left_cutoff = st.norm.ppf(0.1)\n",
    "# Range will expect approximately 90% of draw values to fall\n",
    "Range = [(right_cutoff * std + xbar) * 3, (left_cutoff * std + xbar) * 3]\n",
    "print \"90% range: \", Range\n",
    "\n",
    "# What is the approximate probability that\n",
    "# you will get a draw value of at least 20\n",
    "\n",
    "cutoff = (20/3. - xbar) / std\n",
    "prob = 1 - st.norm.cdf(cutoff)\n",
    "\n",
    "print  '%.2f%%' % (100 * prob)"
   ]
  }
 ],
 "metadata": {
  "kernelspec": {
   "display_name": "Python 2",
   "language": "python",
   "name": "python2"
  },
  "language_info": {
   "codemirror_mode": {
    "name": "ipython",
    "version": 2
   },
   "file_extension": ".py",
   "mimetype": "text/x-python",
   "name": "python",
   "nbconvert_exporter": "python",
   "pygments_lexer": "ipython2",
   "version": "2.7.13"
  }
 },
 "nbformat": 4,
 "nbformat_minor": 2
}
